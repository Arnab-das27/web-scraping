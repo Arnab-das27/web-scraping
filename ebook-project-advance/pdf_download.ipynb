{
 "cells": [
  {
   "cell_type": "code",
   "execution_count": 12,
   "id": "b1375d49-3220-4757-beca-d0ab011066e7",
   "metadata": {},
   "outputs": [],
   "source": [
    "import os\n",
    "import requests\n",
    "from bs4 import BeautifulSoup\n",
    "\n",
    "# url = 'https://riptutorial.com/ebook/scrapy'\n",
    "url = 'https://www.scrapebay.com/ebooks/'\n",
    "\n",
    "# Get webpage content\n",
    "response = requests.get(url)\n",
    "soup = BeautifulSoup(response.text, 'html.parser')\n",
    "\n",
    "# Create folder for downloads (optional)\n",
    "os.makedirs('downloaded_pdfs', exist_ok=True)  # Create folder if not exists\n",
    "\n",
    "# Find PDF links\n",
    "pdf_links = [a['href'] for a in soup.find_all('a') if '.pdf' in a['href']]\n",
    "\n",
    "# Download and save PDFs\n",
    "for link in pdf_links:\n",
    "  pdf_url = requests.compat.urljoin(url, link)  # Handle relative paths\n",
    "  filename = link.split('/')[-1]  # Extract filename\n",
    "  pdf_response = requests.get(pdf_url)\n",
    "\n",
    "  with open(f'downloaded_pdfs/{filename}', 'wb') as f:\n",
    "    f.write(pdf_response.content)\n",
    "\n",
    "  print(f'Downloaded PDF: {filename}')\n"
   ]
  },
  {
   "cell_type": "code",
   "execution_count": 13,
   "id": "3698a645-2144-43e2-a520-e67a3a412b8b",
   "metadata": {},
   "outputs": [
    {
     "data": {
      "text/plain": [
       "[]"
      ]
     },
     "execution_count": 13,
     "metadata": {},
     "output_type": "execute_result"
    }
   ],
   "source": [
    "pdf_links"
   ]
  },
  {
   "cell_type": "code",
   "execution_count": null,
   "id": "83eb70bc-ef7f-4796-9f57-02efe322affe",
   "metadata": {},
   "outputs": [],
   "source": []
  }
 ],
 "metadata": {
  "kernelspec": {
   "display_name": "Python 3 (ipykernel)",
   "language": "python",
   "name": "python3"
  },
  "language_info": {
   "codemirror_mode": {
    "name": "ipython",
    "version": 3
   },
   "file_extension": ".py",
   "mimetype": "text/x-python",
   "name": "python",
   "nbconvert_exporter": "python",
   "pygments_lexer": "ipython3",
   "version": "3.11.7"
  }
 },
 "nbformat": 4,
 "nbformat_minor": 5
}
