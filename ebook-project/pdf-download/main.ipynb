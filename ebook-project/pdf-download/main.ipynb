{
 "cells": [
  {
   "cell_type": "code",
   "execution_count": 26,
   "metadata": {},
   "outputs": [],
   "source": [
    "import os\n",
    "import requests\n",
    "from bs4 import BeautifulSoup\n",
    "\n",
    "url = 'https://riptutorial.com/ebook/scrapy'"
   ]
  },
  {
   "cell_type": "code",
   "execution_count": 27,
   "metadata": {},
   "outputs": [],
   "source": [
    "response = requests.get(url)\n",
    "soup = BeautifulSoup(response.text, \"html.parser\")"
   ]
  },
  {
   "cell_type": "code",
   "execution_count": 28,
   "metadata": {},
   "outputs": [],
   "source": [
    "# Create folder for downloads\n",
    "os.makedirs('downloaded_pdfs', exist_ok=True) "
   ]
  },
  {
   "cell_type": "code",
   "execution_count": 29,
   "metadata": {},
   "outputs": [],
   "source": [
    "pdf_links = [a['href'] for a in soup.find_all('a') if '.pdf' in a['href']]"
   ]
  },
  {
   "cell_type": "code",
   "execution_count": 31,
   "metadata": {},
   "outputs": [
    {
     "name": "stdout",
     "output_type": "stream",
     "text": [
      "Downloaded PDF: scrapy.pdf\n",
      "Downloaded PDF: scrapy.pdf\n"
     ]
    }
   ],
   "source": [
    "# Download and save PDFs\n",
    "for link in pdf_links:\n",
    "  pdf_url = requests.compat.urljoin(url, link)\n",
    "  filename = link.split('/')[-1] \n",
    "  pdf_response = requests.get(pdf_url)\n",
    "\n",
    "  with open(f'downloaded_pdfs/{filename}', 'wb') as f:\n",
    "    f.write(pdf_response.content)"
   ]
  }
 ],
 "metadata": {
  "kernelspec": {
   "display_name": "env",
   "language": "python",
   "name": "python3"
  },
  "language_info": {
   "codemirror_mode": {
    "name": "ipython",
    "version": 3
   },
   "file_extension": ".py",
   "mimetype": "text/x-python",
   "name": "python",
   "nbconvert_exporter": "python",
   "pygments_lexer": "ipython3",
   "version": "3.10.12"
  }
 },
 "nbformat": 4,
 "nbformat_minor": 2
}
