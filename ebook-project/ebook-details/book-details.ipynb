{
 "cells": [
  {
   "cell_type": "code",
   "execution_count": 12,
   "metadata": {},
   "outputs": [],
   "source": [
    "# Installed required packages\n",
    "# !pip install beautifulsoup4 pandas matplotlib seaborn requests"
   ]
  },
  {
   "cell_type": "code",
   "execution_count": 13,
   "metadata": {},
   "outputs": [],
   "source": [
    "import requests\n",
    "from bs4 import BeautifulSoup\n",
    "import pandas as pd\n",
    "import seaborn as sns\n",
    "import matplotlib.pyplot as plt\n",
    "\n",
    "url=\"https://books.toscrape.com/\"\n",
    "response = requests.get(url)\n",
    "soup = BeautifulSoup(response.content, \"html.parser\")"
   ]
  },
  {
   "cell_type": "code",
   "execution_count": 14,
   "metadata": {},
   "outputs": [],
   "source": [
    "def scrape_books(soup):\n",
    "    books=[]\n",
    "    for book in soup.find_all(\"li\",class_=\"col-xs-6\"):\n",
    "        title=book.h3.a.attrs[\"title\"]\n",
    "        price = book.find(\"p\",class_=\"price_color\").text[2:]\n",
    "        rating = book.find(\"p\",class_=\"star-rating\")[\"class\"][1]\n",
    "        books.append({\n",
    "            \"Title\":title,\n",
    "            \"Price\": float(price),\n",
    "            \"Rating\":rating\n",
    "            })\n",
    "    return books"
   ]
  },
  {
   "cell_type": "code",
   "execution_count": 15,
   "metadata": {},
   "outputs": [
    {
     "name": "stdout",
     "output_type": "stream",
     "text": [
      "                                   Title  Price Rating\n",
      "0                   A Light in the Attic   1.77  Three\n",
      "1                     Tipping the Velvet   3.74    One\n",
      "2                             Soumission   0.10    One\n",
      "3                          Sharp Objects   7.82   Four\n",
      "4  Sapiens: A Brief History of Humankind   4.23   Five\n"
     ]
    }
   ],
   "source": [
    "book_data = scrape_books(soup)\n",
    "df = pd.DataFrame(book_data)\n",
    "print(df.head())"
   ]
  },
  {
   "cell_type": "code",
   "execution_count": 16,
   "metadata": {},
   "outputs": [],
   "source": [
    "# Export to CSV\n",
    "df.to_csv('data.csv', index=False)\n",
    "\n",
    "# Export to Excel\n",
    "df.to_excel('data.xlsx', index=False)"
   ]
  }
 ],
 "metadata": {
  "kernelspec": {
   "display_name": "env",
   "language": "python",
   "name": "python3"
  },
  "language_info": {
   "codemirror_mode": {
    "name": "ipython",
    "version": 3
   },
   "file_extension": ".py",
   "mimetype": "text/x-python",
   "name": "python",
   "nbconvert_exporter": "python",
   "pygments_lexer": "ipython3",
   "version": "3.10.12"
  }
 },
 "nbformat": 4,
 "nbformat_minor": 2
}
