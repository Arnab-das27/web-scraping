{
 "cells": [
  {
   "cell_type": "code",
   "execution_count": 29,
   "id": "cc1d9223-9dfe-499b-b1bc-81cc8310462a",
   "metadata": {},
   "outputs": [],
   "source": [
    "# Install required modules\n",
    "# ! pip install beautifulsoup4\n",
    "# ! pip install requests"
   ]
  },
  {
   "cell_type": "code",
   "execution_count": 30,
   "id": "5b8ba4c0-d01d-49f6-804d-b0af38e722c8",
   "metadata": {},
   "outputs": [],
   "source": [
    "import sys\n",
    "import time\n",
    "from bs4 import BeautifulSoup\n",
    "import requests\n",
    "import pandas as pd"
   ]
  },
  {
   "cell_type": "code",
   "execution_count": 35,
   "id": "1da3415d-0679-4016-a7b3-e06db8c49c4b",
   "metadata": {},
   "outputs": [],
   "source": [
    "try:\n",
    "\n",
    "    page = requests.get(\"https://www.cricbuzz.com/\")\n",
    "except Exception as e:\n",
    "    error_type, error_obj, error_info = sys.exc_info()\n",
    "    print('Error for link : ',url)\n",
    "    print(error_type, 'Line:', error_info.tb_lineno)\n",
    "    \n",
    "time.sleep(2)\n",
    "soup=BeautifulSoup(page.text,'html.parser')\n",
    "# links=soup.find_all('div',attrs={'class':'cb-nws-intr'})\n",
    "links=soup.find_all('div',attrs={'class':'cb-mtch-crd-state cb-ovr-flo cb-font-12 cb-text-complete'})"
   ]
  },
  {
   "cell_type": "code",
   "execution_count": 32,
   "id": "6c808645-f63c-4676-9035-68a9e8265c69",
   "metadata": {},
   "outputs": [],
   "source": [
    "# soup"
   ]
  },
  {
   "cell_type": "code",
   "execution_count": 36,
   "id": "62c6c84b-f79c-4094-a23c-330c8132e31e",
   "metadata": {},
   "outputs": [
    {
     "name": "stdout",
     "output_type": "stream",
     "text": [
      "Kolkata Knight Riders won by 24 runs\n",
      "\n",
      "\n",
      "Bangladesh won by 8 wkts\n",
      "\n",
      "\n",
      "Sunrisers Hyderabad won by 1 run\n",
      "\n",
      "\n",
      "Punjab Kings won by 7 wkts\n",
      "\n",
      "\n",
      "Lucknow Super Giants won by 4 wkts\n",
      "\n",
      "\n"
     ]
    }
   ],
   "source": [
    "for i in links:\n",
    "    print(i.text)\n",
    "    print(\"\\n\")"
   ]
  },
  {
   "cell_type": "code",
   "execution_count": 34,
   "id": "16f9a301-a035-4dba-8793-736f952d3f02",
   "metadata": {},
   "outputs": [
    {
     "data": {
      "text/plain": [
       "<Response [200]>"
      ]
     },
     "execution_count": 34,
     "metadata": {},
     "output_type": "execute_result"
    }
   ],
   "source": [
    "page"
   ]
  },
  {
   "cell_type": "code",
   "execution_count": null,
   "id": "855c7b06-978f-43f4-89a6-d3458532b778",
   "metadata": {},
   "outputs": [],
   "source": []
  }
 ],
 "metadata": {
  "kernelspec": {
   "display_name": "Python 3 (ipykernel)",
   "language": "python",
   "name": "python3"
  },
  "language_info": {
   "codemirror_mode": {
    "name": "ipython",
    "version": 3
   },
   "file_extension": ".py",
   "mimetype": "text/x-python",
   "name": "python",
   "nbconvert_exporter": "python",
   "pygments_lexer": "ipython3",
   "version": "3.11.7"
  }
 },
 "nbformat": 4,
 "nbformat_minor": 5
}
